{
 "cells": [
  {
   "cell_type": "markdown",
   "metadata": {},
   "source": [
    "# Local Field Potential Evaluation \n",
    "#### This notebook steps through the analysis & production of figures "
   ]
  },
  {
   "cell_type": "markdown",
   "metadata": {},
   "source": [
    "### 1) Load Required Packages "
   ]
  },
  {
   "cell_type": "code",
   "execution_count": 1,
   "metadata": {
    "scrolled": false
   },
   "outputs": [],
   "source": [
    "#Import required packages|\n",
    "import pickle\n",
    "import os\n",
    "import ipywidgets\n",
    "import csv\n",
    "from ipywidgets import Layout, HBox, VBox\n",
    "from IPython.display import display\n",
    "from load_probe_info import *\n",
    "from cycleDirectoryLFP import *\n",
    "from paradigmAnalysis import * "
   ]
  },
  {
   "cell_type": "markdown",
   "metadata": {},
   "source": [
    "### 2) Provide Information for Dictionary "
   ]
  },
  {
   "cell_type": "code",
   "execution_count": 2,
   "metadata": {},
   "outputs": [
    {
     "data": {
      "application/vnd.jupyter.widget-view+json": {
       "model_id": "4df7219a363a454d94943eb7cd11d5fb",
       "version_major": 2,
       "version_minor": 0
      },
      "text/html": [
       "<p>Failed to display Jupyter Widget of type <code>VBox</code>.</p>\n",
       "<p>\n",
       "  If you're reading this message in the Jupyter Notebook or JupyterLab Notebook, it may mean\n",
       "  that the widgets JavaScript is still loading. If this message persists, it\n",
       "  likely means that the widgets JavaScript library is either not installed or\n",
       "  not enabled. See the <a href=\"https://ipywidgets.readthedocs.io/en/stable/user_install.html\">Jupyter\n",
       "  Widgets Documentation</a> for setup instructions.\n",
       "</p>\n",
       "<p>\n",
       "  If you're reading this message in another frontend (for example, a static\n",
       "  rendering on GitHub or <a href=\"https://nbviewer.jupyter.org/\">NBViewer</a>),\n",
       "  it may mean that your frontend doesn't currently support widgets.\n",
       "</p>\n"
      ],
      "text/plain": [
       "VBox(children=(HTML(value=\"<p><b>Path to the data of the experiment:</b><br />Enter the path to the folder (with no '/' at the end) that is hierarchically right above the folders of the recording sessions</p>\"), Text(value='/mnt/d/DatainAnalysis', placeholder='Enter path for data')))"
      ]
     },
     "metadata": {},
     "output_type": "display_data"
    },
    {
     "data": {
      "application/vnd.jupyter.widget-view+json": {
       "model_id": "ad221752462a429ea65924a31e6f81d7",
       "version_major": 2,
       "version_minor": 0
      },
      "text/html": [
       "<p>Failed to display Jupyter Widget of type <code>VBox</code>.</p>\n",
       "<p>\n",
       "  If you're reading this message in the Jupyter Notebook or JupyterLab Notebook, it may mean\n",
       "  that the widgets JavaScript is still loading. If this message persists, it\n",
       "  likely means that the widgets JavaScript library is either not installed or\n",
       "  not enabled. See the <a href=\"https://ipywidgets.readthedocs.io/en/stable/user_install.html\">Jupyter\n",
       "  Widgets Documentation</a> for setup instructions.\n",
       "</p>\n",
       "<p>\n",
       "  If you're reading this message in another frontend (for example, a static\n",
       "  rendering on GitHub or <a href=\"https://nbviewer.jupyter.org/\">NBViewer</a>),\n",
       "  it may mean that your frontend doesn't currently support widgets.\n",
       "</p>\n"
      ],
      "text/plain": [
       "VBox(children=(HTML(value='<p><b>Path for the resulting analysis and figures:</b><br />Enter the path to the folder where all results should be stored </p>'), Text(value='/mnt/d/ActiveAnalysis/AnalysisOutput', placeholder='Enter path for data')))"
      ]
     },
     "metadata": {},
     "output_type": "display_data"
    },
    {
     "data": {
      "application/vnd.jupyter.widget-view+json": {
       "model_id": "dd59e6555e6949cfb02d1a2ede4798c8",
       "version_major": 2,
       "version_minor": 0
      },
      "text/html": [
       "<p>Failed to display Jupyter Widget of type <code>VBox</code>.</p>\n",
       "<p>\n",
       "  If you're reading this message in the Jupyter Notebook or JupyterLab Notebook, it may mean\n",
       "  that the widgets JavaScript is still loading. If this message persists, it\n",
       "  likely means that the widgets JavaScript library is either not installed or\n",
       "  not enabled. See the <a href=\"https://ipywidgets.readthedocs.io/en/stable/user_install.html\">Jupyter\n",
       "  Widgets Documentation</a> for setup instructions.\n",
       "</p>\n",
       "<p>\n",
       "  If you're reading this message in another frontend (for example, a static\n",
       "  rendering on GitHub or <a href=\"https://nbviewer.jupyter.org/\">NBViewer</a>),\n",
       "  it may mean that your frontend doesn't currently support widgets.\n",
       "</p>\n"
      ],
      "text/plain": [
       "VBox(children=(HTML(value='<b> Sampling rate (Hz): </b>'), IntText(value=32000)))"
      ]
     },
     "metadata": {},
     "output_type": "display_data"
    },
    {
     "data": {
      "application/vnd.jupyter.widget-view+json": {
       "model_id": "ec1ad5e6877a4fc5a6277efa7474f91c",
       "version_major": 2,
       "version_minor": 0
      },
      "text/html": [
       "<p>Failed to display Jupyter Widget of type <code>VBox</code>.</p>\n",
       "<p>\n",
       "  If you're reading this message in the Jupyter Notebook or JupyterLab Notebook, it may mean\n",
       "  that the widgets JavaScript is still loading. If this message persists, it\n",
       "  likely means that the widgets JavaScript library is either not installed or\n",
       "  not enabled. See the <a href=\"https://ipywidgets.readthedocs.io/en/stable/user_install.html\">Jupyter\n",
       "  Widgets Documentation</a> for setup instructions.\n",
       "</p>\n",
       "<p>\n",
       "  If you're reading this message in another frontend (for example, a static\n",
       "  rendering on GitHub or <a href=\"https://nbviewer.jupyter.org/\">NBViewer</a>),\n",
       "  it may mean that your frontend doesn't currently support widgets.\n",
       "</p>\n"
      ],
      "text/plain": [
       "VBox(children=(HTML(value='<b>Type of the probe used in the experiment</b>'), Dropdown(options=('a2x16_10mm_100_500_177', 'a2x16_10mm_50_500_177', 'a1x32_6mm_100_177', 'a4x8_5mm_200_400_177', 'custom'), value='a2x16_10mm_100_500_177')))"
      ]
     },
     "metadata": {},
     "output_type": "display_data"
    },
    {
     "data": {
      "application/vnd.jupyter.widget-view+json": {
       "model_id": "1163a2a9d6124026ae9b8e004dbc2e5e",
       "version_major": 2,
       "version_minor": 0
      },
      "text/html": [
       "<p>Failed to display Jupyter Widget of type <code>VBox</code>.</p>\n",
       "<p>\n",
       "  If you're reading this message in the Jupyter Notebook or JupyterLab Notebook, it may mean\n",
       "  that the widgets JavaScript is still loading. If this message persists, it\n",
       "  likely means that the widgets JavaScript library is either not installed or\n",
       "  not enabled. See the <a href=\"https://ipywidgets.readthedocs.io/en/stable/user_install.html\">Jupyter\n",
       "  Widgets Documentation</a> for setup instructions.\n",
       "</p>\n",
       "<p>\n",
       "  If you're reading this message in another frontend (for example, a static\n",
       "  rendering on GitHub or <a href=\"https://nbviewer.jupyter.org/\">NBViewer</a>),\n",
       "  it may mean that your frontend doesn't currently support widgets.\n",
       "</p>\n"
      ],
      "text/plain": [
       "VBox(children=(HTML(value='<b>Select the time window for analysis(in ms)</b>'), Dropdown(options=(('-50-250', 1), ('-50-500', 2)), value=1)))"
      ]
     },
     "metadata": {},
     "output_type": "display_data"
    },
    {
     "data": {
      "application/vnd.jupyter.widget-view+json": {
       "model_id": "40874d2f852d497abf332ecacf86d030",
       "version_major": 2,
       "version_minor": 0
      },
      "text/html": [
       "<p>Failed to display Jupyter Widget of type <code>VBox</code>.</p>\n",
       "<p>\n",
       "  If you're reading this message in the Jupyter Notebook or JupyterLab Notebook, it may mean\n",
       "  that the widgets JavaScript is still loading. If this message persists, it\n",
       "  likely means that the widgets JavaScript library is either not installed or\n",
       "  not enabled. See the <a href=\"https://ipywidgets.readthedocs.io/en/stable/user_install.html\">Jupyter\n",
       "  Widgets Documentation</a> for setup instructions.\n",
       "</p>\n",
       "<p>\n",
       "  If you're reading this message in another frontend (for example, a static\n",
       "  rendering on GitHub or <a href=\"https://nbviewer.jupyter.org/\">NBViewer</a>),\n",
       "  it may mean that your frontend doesn't currently support widgets.\n",
       "</p>\n"
      ],
      "text/plain": [
       "VBox(children=(HTML(value='<b>Select the time binsize for analysis(in ms)</b>'), Dropdown(options=(50, 10), value=50)))"
      ]
     },
     "metadata": {},
     "output_type": "display_data"
    },
    {
     "data": {
      "application/vnd.jupyter.widget-view+json": {
       "model_id": "c7490bc0fd88441dbb4ad74a68bd2415",
       "version_major": 2,
       "version_minor": 0
      },
      "text/html": [
       "<p>Failed to display Jupyter Widget of type <code>VBox</code>.</p>\n",
       "<p>\n",
       "  If you're reading this message in the Jupyter Notebook or JupyterLab Notebook, it may mean\n",
       "  that the widgets JavaScript is still loading. If this message persists, it\n",
       "  likely means that the widgets JavaScript library is either not installed or\n",
       "  not enabled. See the <a href=\"https://ipywidgets.readthedocs.io/en/stable/user_install.html\">Jupyter\n",
       "  Widgets Documentation</a> for setup instructions.\n",
       "</p>\n",
       "<p>\n",
       "  If you're reading this message in another frontend (for example, a static\n",
       "  rendering on GitHub or <a href=\"https://nbviewer.jupyter.org/\">NBViewer</a>),\n",
       "  it may mean that your frontend doesn't currently support widgets.\n",
       "</p>\n"
      ],
      "text/plain": [
       "VBox(children=(HTML(value='<b> Enter the cutoff frequency of the low pass filter to extract LFP from data (in Hz)'), FloatText(value=500.0)))"
      ]
     },
     "metadata": {},
     "output_type": "display_data"
    },
    {
     "data": {
      "application/vnd.jupyter.widget-view+json": {
       "model_id": "fe67b27858184f4a8a1db933de189ce0",
       "version_major": 2,
       "version_minor": 0
      },
      "text/html": [
       "<p>Failed to display Jupyter Widget of type <code>HBox</code>.</p>\n",
       "<p>\n",
       "  If you're reading this message in the Jupyter Notebook or JupyterLab Notebook, it may mean\n",
       "  that the widgets JavaScript is still loading. If this message persists, it\n",
       "  likely means that the widgets JavaScript library is either not installed or\n",
       "  not enabled. See the <a href=\"https://ipywidgets.readthedocs.io/en/stable/user_install.html\">Jupyter\n",
       "  Widgets Documentation</a> for setup instructions.\n",
       "</p>\n",
       "<p>\n",
       "  If you're reading this message in another frontend (for example, a static\n",
       "  rendering on GitHub or <a href=\"https://nbviewer.jupyter.org/\">NBViewer</a>),\n",
       "  it may mean that your frontend doesn't currently support widgets.\n",
       "</p>\n"
      ],
      "text/plain": [
       "HBox(children=(HTML(value='<b> Check if Current Source Density analysis should be completed.'), Checkbox(value=True)))"
      ]
     },
     "metadata": {},
     "output_type": "display_data"
    }
   ],
   "source": [
    "##Main path for the data \n",
    "\n",
    "inputPath_html = ipywidgets.HTML(value = \"<p><b>Path to the data of the experiment:</b><br />Enter the path to the folder (with no '/' at the end) that is hierarchically right above the folders of the recording sessions</p>\")\n",
    "inputPath = ipywidgets.Text(value = \"/mnt/d/DatainAnalysis\", placeholder = \"Enter path for data\", disabled = False)\n",
    "display(VBox([inputPath_html, inputPath]))\n",
    "\n",
    "##Main path for the output results and figures \n",
    "\n",
    "outputPath_html = ipywidgets.HTML(value = \"<p><b>Path for the resulting analysis and figures:</b><br />Enter the path to the folder where all results should be stored </p>\")\n",
    "outputPath = ipywidgets.Text(value = \"/mnt/d/ActiveAnalysis/AnalysisOutput\", placeholder = \"Enter path for data\", disabled = False)\n",
    "display(VBox([outputPath_html, outputPath]))\n",
    "\n",
    "##Sampling rate\n",
    "sr = ipywidgets.IntText(value = 32000, disabled = False)\n",
    "display(VBox([ipywidgets.HTML(value = \"<b> Sampling rate (Hz): </b>\"),sr]))\n",
    "\n",
    "##Probe info\n",
    "pi_html = ipywidgets.HTML(value = \"<b>Type of the probe used in the experiment</b>\")\n",
    "pi = ipywidgets.Dropdown(options=['a2x16_10mm_100_500_177', 'a2x16_10mm_50_500_177', 'a1x32_6mm_100_177', 'a4x8_5mm_200_400_177','custom'], \n",
    "                   value = 'a2x16_10mm_100_500_177',  disabled = False)\n",
    "display(VBox([pi_html, pi]))\n",
    "\n",
    "##TimeWindow\n",
    "\n",
    "tw = ipywidgets.Dropdown(options = [('-50-250', 1), ('-50-500', 2)], disabled = False)\n",
    "display(VBox([ipywidgets.HTML(value = \"<b>Select the time window for analysis(in ms)</b>\"), tw]))\n",
    "\n",
    "##Binsize\n",
    "\n",
    "bs = ipywidgets.Dropdown(options = [50, 10], disabled = False)\n",
    "display(VBox([ipywidgets.HTML(value = \"<b>Select the time binsize for analysis(in ms)</b>\"), bs]))\n",
    "\n",
    "\n",
    "#low_pass_freq\n",
    "\n",
    "lp = ipywidgets.FloatText(value = 500, disabled = False)\n",
    "display(VBox([ipywidgets.HTML(value = \"<b> Enter the cutoff frequency of the low pass filter to extract LFP from data (in Hz)\"), lp]))\n",
    "\n",
    "\n",
    "#CSD Analysis\n",
    "\n",
    "csd = ipywidgets.Checkbox(value = True, disabled = False)\n",
    "display(HBox([ipywidgets.HTML(value = \"<b> Check if Current Source Density analysis should be completed.\"), csd]))"
   ]
  },
  {
   "cell_type": "markdown",
   "metadata": {},
   "source": [
    "### 3) Write Dictionary "
   ]
  },
  {
   "cell_type": "code",
   "execution_count": 3,
   "metadata": {},
   "outputs": [
    {
     "name": "stdout",
     "output_type": "stream",
     "text": [
      "loadding\n",
      "{'shanks': 2, 'probe_name': 'a2x16_10mm_100_500_177', 'nr_of_electrodes': 32, 'nr_of_electrodes_per_shank': 16, 'nr_of_shanks': 2, 'bottom_ycoord': 50, 'top_ycoord': 1550, 'id': array([[18, 27, 29, 19, 17, 25, 31, 20, 26, 24, 28, 21, 30, 23, 32, 22],\n",
      "       [ 8,  9, 11,  4, 10,  6, 13,  2, 12,  7, 15,  5, 14,  3, 16,  1]]), 'sitespacing': 100, 'inputPath': '/mnt/d/DatainAnalysis', 'outputPath': '/mnt/d/ActiveAnalysis/AnalysisOutput', 'sample_rate': 32000, 'evoked_pre': 0.05, 'evoked_post': 0.25, 'binsize': 0.05, 'low_pass_freq': 500.0, 'csd': True}\n"
     ]
    }
   ],
   "source": [
    "p = {} #Parameter dictionary (empty)\n",
    "\n",
    "#Entering the probe info and electrode mapping into the dictionary\n",
    "probe_info = load_probe_info(pi.value)\n",
    "p['shanks'] = probe_info['numShanks']\n",
    "\n",
    "p['probe_name'] = probe_info['name']\n",
    "p['nr_of_electrodes'] = probe_info['numTrodes']\n",
    "p['nr_of_electrodes_per_shank'] = probe_info['numTrodesPerShank']\n",
    "p['nr_of_shanks'] = p['shanks']\n",
    "p['bottom_ycoord'] = probe_info['bottom_ycoord']\n",
    "p['top_ycoord'] = probe_info['top_ycoord']\n",
    "p['id'] = probe_info['id']\n",
    "p['sitespacing'] = probe_info['sitespacing']\n",
    "\n",
    "#Entering the path and file format info into the dictionary\n",
    "p['inputPath'] = inputPath.value\n",
    "p['outputPath'] = outputPath.value\n",
    "\n",
    "#Entering the general parameters into the dictionary\n",
    "p['sample_rate'] = sr.value\n",
    "    \n",
    "#Entering the LFP analysis parameters into the dictionary\n",
    "if tw.value == 1:\n",
    "    p['evoked_pre'] = 0.05\n",
    "    p['evoked_post'] = 0.250\n",
    "if tw.value == 2:\n",
    "    p['evoked_pre'] = 0.05\n",
    "    p['evoked_post'] = 0.5\n",
    "if bs.value == 50: p['binsize'] = 0.05\n",
    "if bs.value == 10: p['binsize'] = 0.01\n",
    "p['low_pass_freq'] = lp.value\n",
    "        \n",
    "p['csd'] = csd.value \n",
    "    \n",
    "if not os.path.exists(outputPath.value + '/AnalysisFiles'):\n",
    "    os.mkdir(outputPath.value + '/AnalysisFiles')\n",
    "    \n",
    "#Saving the dictionary in the pickle file and csv named parametersDict\n",
    "pickle.dump(p, open((outputPath.value + '/AnalysisFiles/parametersDict.p'), 'wb'))\n",
    "\n",
    "with open(outputPath.value + '/AnalysisFiles/parametersDict.csv', 'w') as textfile:\n",
    "    fieldnames = ['Field', 'Value']\n",
    "    writer = csv.DictWriter(textfile, fieldnames = fieldnames)\n",
    "    writer.writeheader()\n",
    "    data = [dict(zip(fieldnames, [k,v])) for k, v in p.items()]\n",
    "    writer.writerows(data)\n",
    "    \n",
    "print(p)\n"
   ]
  },
  {
   "cell_type": "markdown",
   "metadata": {},
   "source": [
    "\n",
    "### 4) Complete Analysis\n",
    "##### Cycles through all trigger files, producing all result files in a folder with the name of the main MCD file. \n",
    "##### Results: 1) CSD/Pickle files for all stimuli per channel, 2) CSD/Pickle/PNG files for averaged responses per channel to specific trigger categories, 3) PNG/SVG images of averaged responses for all channels on shank to specific trigger categories, and 4) If selected, CSV file for current source density analysis for each trigger category and corresponding plots and heatmaps. \n",
    "            "
   ]
  },
  {
   "cell_type": "code",
   "execution_count": 4,
   "metadata": {
    "scrolled": true
   },
   "outputs": [
    {
     "name": "stdout",
     "output_type": "stream",
     "text": [
      "/mnt/d/DatainAnalysis/mGE101_03.01.2020_PostKetamine_PSC1.mcd/Triggers_AllStimuli.dat\n",
      "/mnt/d/DatainAnalysis/mGE101_03.01.2020_PostKetamine_PSC1.mcd/Triggers_B1.dat\n",
      "/mnt/d/DatainAnalysis/mGE101_03.01.2020_PostKetamine_PSC1.mcd/Triggers_C1.dat\n"
     ]
    },
    {
     "ename": "KeyboardInterrupt",
     "evalue": "",
     "output_type": "error",
     "traceback": [
      "\u001b[0;31m---------------------------------------------------------------------------\u001b[0m",
      "\u001b[0;31mKeyboardInterrupt\u001b[0m                         Traceback (most recent call last)",
      "\u001b[0;32m<ipython-input-4-b37e953887ee>\u001b[0m in \u001b[0;36m<module>\u001b[0;34m()\u001b[0m\n\u001b[0;32m----> 1\u001b[0;31m \u001b[0manalyzeAllFiles\u001b[0m\u001b[0;34m(\u001b[0m\u001b[0mp\u001b[0m\u001b[0;34m)\u001b[0m\u001b[0;34m\u001b[0m\u001b[0m\n\u001b[0m",
      "\u001b[0;32m/mnt/c/Users/gwendolyn/Documents/EphysPipeline/gwendolyn_ephys_updated/cycleDirectoryLFP.py\u001b[0m in \u001b[0;36manalyzeAllFiles\u001b[0;34m(p)\u001b[0m\n\u001b[1;32m     54\u001b[0m                         \u001b[0mdataPath\u001b[0m \u001b[0;34m=\u001b[0m \u001b[0mp\u001b[0m\u001b[0;34m[\u001b[0m\u001b[0;34m'inputPath'\u001b[0m\u001b[0;34m]\u001b[0m \u001b[0;34m+\u001b[0m \u001b[0;34m'/'\u001b[0m \u001b[0;34m+\u001b[0m \u001b[0mfolder\u001b[0m \u001b[0;34m+\u001b[0m \u001b[0;34m'/'\u001b[0m \u001b[0;34m+\u001b[0m \u001b[0mchannelFile\u001b[0m\u001b[0;34m\u001b[0m\u001b[0m\n\u001b[1;32m     55\u001b[0m \u001b[0;34m\u001b[0m\u001b[0m\n\u001b[0;32m---> 56\u001b[0;31m                         \u001b[0msummarydata\u001b[0m \u001b[0;34m=\u001b[0m \u001b[0mavgStimuli\u001b[0m\u001b[0;34m(\u001b[0m\u001b[0mp\u001b[0m\u001b[0;34m,\u001b[0m \u001b[0mdataPath\u001b[0m\u001b[0;34m,\u001b[0m \u001b[0mtriggerArray\u001b[0m\u001b[0;34m,\u001b[0m \u001b[0moutputpathFolder\u001b[0m\u001b[0;34m,\u001b[0m \u001b[0mfile\u001b[0m\u001b[0;34m,\u001b[0m \u001b[0mchannelFile\u001b[0m\u001b[0;34m)\u001b[0m\u001b[0;34m\u001b[0m\u001b[0m\n\u001b[0m\u001b[1;32m     57\u001b[0m                         \u001b[0mavgdatatofile\u001b[0m\u001b[0;34m.\u001b[0m\u001b[0mappend\u001b[0m\u001b[0;34m(\u001b[0m\u001b[0msummarydata\u001b[0m\u001b[0;34m)\u001b[0m\u001b[0;34m\u001b[0m\u001b[0m\n\u001b[1;32m     58\u001b[0m \u001b[0;34m\u001b[0m\u001b[0m\n",
      "\u001b[0;32m/mnt/c/Users/gwendolyn/Documents/EphysPipeline/gwendolyn_ephys_updated/mainAnalysisLFP.py\u001b[0m in \u001b[0;36mavgStimuli\u001b[0;34m(p, avg_dataPath, avg_trigger_array, outputpathFolder, triggerFile, channelFile)\u001b[0m\n\u001b[1;32m     80\u001b[0m \u001b[0;34m\u001b[0m\u001b[0m\n\u001b[1;32m     81\u001b[0m     \u001b[0;31m#Load electrode channel raw file\u001b[0m\u001b[0;34m\u001b[0m\u001b[0;34m\u001b[0m\u001b[0m\n\u001b[0;32m---> 82\u001b[0;31m     \u001b[0mavg_channel_array\u001b[0m \u001b[0;34m=\u001b[0m \u001b[0mreadChannelRawData\u001b[0m\u001b[0;34m(\u001b[0m\u001b[0mavg_dataPath\u001b[0m\u001b[0;34m)\u001b[0m\u001b[0;34m\u001b[0m\u001b[0m\n\u001b[0m\u001b[1;32m     83\u001b[0m \u001b[0;34m\u001b[0m\u001b[0m\n\u001b[1;32m     84\u001b[0m     \u001b[0;31m#Low pass filter signal\u001b[0m\u001b[0;34m\u001b[0m\u001b[0;34m\u001b[0m\u001b[0m\n",
      "\u001b[0;32m/mnt/c/Users/gwendolyn/Documents/EphysPipeline/gwendolyn_ephys_updated/loadFiles.py\u001b[0m in \u001b[0;36mreadChannelRawData\u001b[0;34m(filepath)\u001b[0m\n\u001b[1;32m     24\u001b[0m \u001b[0;34m\u001b[0m\u001b[0m\n\u001b[1;32m     25\u001b[0m     \u001b[0;32mwith\u001b[0m \u001b[0mopen\u001b[0m\u001b[0;34m(\u001b[0m\u001b[0mfilepath\u001b[0m\u001b[0;34m,\u001b[0m \u001b[0;34m'rb'\u001b[0m\u001b[0;34m)\u001b[0m \u001b[0;32mas\u001b[0m \u001b[0mfid\u001b[0m\u001b[0;34m:\u001b[0m\u001b[0;34m\u001b[0m\u001b[0m\n\u001b[0;32m---> 26\u001b[0;31m         \u001b[0mchannel_array\u001b[0m \u001b[0;34m=\u001b[0m \u001b[0mnp\u001b[0m\u001b[0;34m.\u001b[0m\u001b[0mfromfile\u001b[0m\u001b[0;34m(\u001b[0m\u001b[0mfid\u001b[0m\u001b[0;34m,\u001b[0m \u001b[0mnp\u001b[0m\u001b[0;34m.\u001b[0m\u001b[0mfloat64\u001b[0m\u001b[0;34m)\u001b[0m\u001b[0;34m\u001b[0m\u001b[0m\n\u001b[0m\u001b[1;32m     27\u001b[0m     \u001b[0;32mreturn\u001b[0m \u001b[0mchannel_array\u001b[0m\u001b[0;34m\u001b[0m\u001b[0m\n\u001b[1;32m     28\u001b[0m \u001b[0;34m\u001b[0m\u001b[0m\n",
      "\u001b[0;31mKeyboardInterrupt\u001b[0m: "
     ]
    }
   ],
   "source": [
    "analyzeAllFiles(p)"
   ]
  },
  {
   "cell_type": "markdown",
   "metadata": {},
   "source": [
    "## Analysis Complete! All analysis file and figures are embedded within the ActiveAnalysis/AnalysisOutput folders in Documents. "
   ]
  }
 ],
 "metadata": {
  "kernelspec": {
   "display_name": "Python 3",
   "language": "python",
   "name": "python3"
  },
  "language_info": {
   "codemirror_mode": {
    "name": "ipython",
    "version": 3
   },
   "file_extension": ".py",
   "mimetype": "text/x-python",
   "name": "python",
   "nbconvert_exporter": "python",
   "pygments_lexer": "ipython3",
   "version": "3.6.4"
  }
 },
 "nbformat": 4,
 "nbformat_minor": 2
}
