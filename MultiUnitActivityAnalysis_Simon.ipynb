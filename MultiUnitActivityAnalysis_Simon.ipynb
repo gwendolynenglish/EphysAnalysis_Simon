{
 "cells": [
  {
   "cell_type": "markdown",
   "metadata": {},
   "source": [
    "# Multi Unit Activity Analysis\n"
   ]
  },
  {
   "cell_type": "markdown",
   "metadata": {},
   "source": [
    "### 1) Load Required Packages "
   ]
  },
  {
   "cell_type": "code",
   "execution_count": 1,
   "metadata": {},
   "outputs": [],
   "source": [
    "#Import required packages\n",
    "import pickle\n",
    "import os\n",
    "import ipywidgets\n",
    "import csv\n",
    "import numpy as np\n",
    "from ipywidgets import Layout, HBox, VBox\n",
    "from IPython.display import display\n",
    "from load_probe_info import *\n",
    "from cycleDirectoryMUA_Simon import *"
   ]
  },
  {
   "cell_type": "markdown",
   "metadata": {},
   "source": [
    "### 2) Provide Information for Dictionary "
   ]
  },
  {
   "cell_type": "code",
   "execution_count": 2,
   "metadata": {},
   "outputs": [
    {
     "data": {
      "application/vnd.jupyter.widget-view+json": {
       "model_id": "c0d41f0b680a4154ad9e149d52727e58",
       "version_major": 2,
       "version_minor": 0
      },
      "text/html": [
       "<p>Failed to display Jupyter Widget of type <code>VBox</code>.</p>\n",
       "<p>\n",
       "  If you're reading this message in the Jupyter Notebook or JupyterLab Notebook, it may mean\n",
       "  that the widgets JavaScript is still loading. If this message persists, it\n",
       "  likely means that the widgets JavaScript library is either not installed or\n",
       "  not enabled. See the <a href=\"https://ipywidgets.readthedocs.io/en/stable/user_install.html\">Jupyter\n",
       "  Widgets Documentation</a> for setup instructions.\n",
       "</p>\n",
       "<p>\n",
       "  If you're reading this message in another frontend (for example, a static\n",
       "  rendering on GitHub or <a href=\"https://nbviewer.jupyter.org/\">NBViewer</a>),\n",
       "  it may mean that your frontend doesn't currently support widgets.\n",
       "</p>\n"
      ],
      "text/plain": [
       "VBox(children=(HTML(value=\"<p><b>Path to the data of the experiment:</b><br />Enter the path to the folder (with no '/' at the end) that is hierarchically right above the folders of the recording sessions</p>\"), Text(value='/mnt/d/DatainAnalysis', placeholder='Enter path for data')))"
      ]
     },
     "metadata": {},
     "output_type": "display_data"
    },
    {
     "data": {
      "application/vnd.jupyter.widget-view+json": {
       "model_id": "c50d2a2c7591425f9b2ed44a09054e70",
       "version_major": 2,
       "version_minor": 0
      },
      "text/html": [
       "<p>Failed to display Jupyter Widget of type <code>VBox</code>.</p>\n",
       "<p>\n",
       "  If you're reading this message in the Jupyter Notebook or JupyterLab Notebook, it may mean\n",
       "  that the widgets JavaScript is still loading. If this message persists, it\n",
       "  likely means that the widgets JavaScript library is either not installed or\n",
       "  not enabled. See the <a href=\"https://ipywidgets.readthedocs.io/en/stable/user_install.html\">Jupyter\n",
       "  Widgets Documentation</a> for setup instructions.\n",
       "</p>\n",
       "<p>\n",
       "  If you're reading this message in another frontend (for example, a static\n",
       "  rendering on GitHub or <a href=\"https://nbviewer.jupyter.org/\">NBViewer</a>),\n",
       "  it may mean that your frontend doesn't currently support widgets.\n",
       "</p>\n"
      ],
      "text/plain": [
       "VBox(children=(HTML(value=\"<p><b>Path for the resulting analysis and figures:</b><br />Enter the path to the folder (with '/') where all results should be stored </p>\"), Text(value='/mnt/c/Users/gwendolyn/Documents/ActiveAnalysis/AnalysisOutput', placeholder='Enter path for data')))"
      ]
     },
     "metadata": {},
     "output_type": "display_data"
    },
    {
     "data": {
      "application/vnd.jupyter.widget-view+json": {
       "model_id": "9a212f5b0b2d4b1aa3deb1c2608c1da4",
       "version_major": 2,
       "version_minor": 0
      },
      "text/html": [
       "<p>Failed to display Jupyter Widget of type <code>VBox</code>.</p>\n",
       "<p>\n",
       "  If you're reading this message in the Jupyter Notebook or JupyterLab Notebook, it may mean\n",
       "  that the widgets JavaScript is still loading. If this message persists, it\n",
       "  likely means that the widgets JavaScript library is either not installed or\n",
       "  not enabled. See the <a href=\"https://ipywidgets.readthedocs.io/en/stable/user_install.html\">Jupyter\n",
       "  Widgets Documentation</a> for setup instructions.\n",
       "</p>\n",
       "<p>\n",
       "  If you're reading this message in another frontend (for example, a static\n",
       "  rendering on GitHub or <a href=\"https://nbviewer.jupyter.org/\">NBViewer</a>),\n",
       "  it may mean that your frontend doesn't currently support widgets.\n",
       "</p>\n"
      ],
      "text/plain": [
       "VBox(children=(HTML(value='<b> Sampling rate (Hz): </b>'), IntText(value=32000)))"
      ]
     },
     "metadata": {},
     "output_type": "display_data"
    },
    {
     "data": {
      "application/vnd.jupyter.widget-view+json": {
       "model_id": "5d0d145a21134774ad435ad7226d6a2f",
       "version_major": 2,
       "version_minor": 0
      },
      "text/html": [
       "<p>Failed to display Jupyter Widget of type <code>VBox</code>.</p>\n",
       "<p>\n",
       "  If you're reading this message in the Jupyter Notebook or JupyterLab Notebook, it may mean\n",
       "  that the widgets JavaScript is still loading. If this message persists, it\n",
       "  likely means that the widgets JavaScript library is either not installed or\n",
       "  not enabled. See the <a href=\"https://ipywidgets.readthedocs.io/en/stable/user_install.html\">Jupyter\n",
       "  Widgets Documentation</a> for setup instructions.\n",
       "</p>\n",
       "<p>\n",
       "  If you're reading this message in another frontend (for example, a static\n",
       "  rendering on GitHub or <a href=\"https://nbviewer.jupyter.org/\">NBViewer</a>),\n",
       "  it may mean that your frontend doesn't currently support widgets.\n",
       "</p>\n"
      ],
      "text/plain": [
       "VBox(children=(HTML(value='<b>Type of the probe used in the experiment</b>'), Dropdown(options=('a2x16_10mm_100_500_177', 'a2x16_10mm_50_500_177', 'a1x32_6mm_100_177', 'a4x8_5mm_200_400_177'), value='a2x16_10mm_100_500_177')))"
      ]
     },
     "metadata": {},
     "output_type": "display_data"
    },
    {
     "data": {
      "application/vnd.jupyter.widget-view+json": {
       "model_id": "990a75f60af04867a2ae69fe4e180be9",
       "version_major": 2,
       "version_minor": 0
      },
      "text/html": [
       "<p>Failed to display Jupyter Widget of type <code>VBox</code>.</p>\n",
       "<p>\n",
       "  If you're reading this message in the Jupyter Notebook or JupyterLab Notebook, it may mean\n",
       "  that the widgets JavaScript is still loading. If this message persists, it\n",
       "  likely means that the widgets JavaScript library is either not installed or\n",
       "  not enabled. See the <a href=\"https://ipywidgets.readthedocs.io/en/stable/user_install.html\">Jupyter\n",
       "  Widgets Documentation</a> for setup instructions.\n",
       "</p>\n",
       "<p>\n",
       "  If you're reading this message in another frontend (for example, a static\n",
       "  rendering on GitHub or <a href=\"https://nbviewer.jupyter.org/\">NBViewer</a>),\n",
       "  it may mean that your frontend doesn't currently support widgets.\n",
       "</p>\n"
      ],
      "text/plain": [
       "VBox(children=(HTML(value='<b>Select the time window for analysis(in s)</b>'), Dropdown(options=(('-0.050-0.20', 1), ('-0.010-0.050', 2)), value=1)))"
      ]
     },
     "metadata": {},
     "output_type": "display_data"
    },
    {
     "data": {
      "application/vnd.jupyter.widget-view+json": {
       "model_id": "66e5aa148cfa4b2eb384c7b2dda1102f",
       "version_major": 2,
       "version_minor": 0
      },
      "text/html": [
       "<p>Failed to display Jupyter Widget of type <code>VBox</code>.</p>\n",
       "<p>\n",
       "  If you're reading this message in the Jupyter Notebook or JupyterLab Notebook, it may mean\n",
       "  that the widgets JavaScript is still loading. If this message persists, it\n",
       "  likely means that the widgets JavaScript library is either not installed or\n",
       "  not enabled. See the <a href=\"https://ipywidgets.readthedocs.io/en/stable/user_install.html\">Jupyter\n",
       "  Widgets Documentation</a> for setup instructions.\n",
       "</p>\n",
       "<p>\n",
       "  If you're reading this message in another frontend (for example, a static\n",
       "  rendering on GitHub or <a href=\"https://nbviewer.jupyter.org/\">NBViewer</a>),\n",
       "  it may mean that your frontend doesn't currently support widgets.\n",
       "</p>\n"
      ],
      "text/plain": [
       "VBox(children=(HTML(value='<b> Enter the cutoff frequency of the high pass filter to extract MUA from data (in Hz)'), FloatText(value=800.0)))"
      ]
     },
     "metadata": {},
     "output_type": "display_data"
    },
    {
     "data": {
      "application/vnd.jupyter.widget-view+json": {
       "model_id": "935bf1ec582a411db81ea04424bb0bea",
       "version_major": 2,
       "version_minor": 0
      },
      "text/html": [
       "<p>Failed to display Jupyter Widget of type <code>VBox</code>.</p>\n",
       "<p>\n",
       "  If you're reading this message in the Jupyter Notebook or JupyterLab Notebook, it may mean\n",
       "  that the widgets JavaScript is still loading. If this message persists, it\n",
       "  likely means that the widgets JavaScript library is either not installed or\n",
       "  not enabled. See the <a href=\"https://ipywidgets.readthedocs.io/en/stable/user_install.html\">Jupyter\n",
       "  Widgets Documentation</a> for setup instructions.\n",
       "</p>\n",
       "<p>\n",
       "  If you're reading this message in another frontend (for example, a static\n",
       "  rendering on GitHub or <a href=\"https://nbviewer.jupyter.org/\">NBViewer</a>),\n",
       "  it may mean that your frontend doesn't currently support widgets.\n",
       "</p>\n"
      ],
      "text/plain": [
       "VBox(children=(HTML(value='<b> Enter the multiple of the standard deviation used for thresholding the data)'), FloatText(value=8.0)))"
      ]
     },
     "metadata": {},
     "output_type": "display_data"
    },
    {
     "data": {
      "application/vnd.jupyter.widget-view+json": {
       "model_id": "b23dd408c40c41e4ab3742f21d531970",
       "version_major": 2,
       "version_minor": 0
      },
      "text/html": [
       "<p>Failed to display Jupyter Widget of type <code>VBox</code>.</p>\n",
       "<p>\n",
       "  If you're reading this message in the Jupyter Notebook or JupyterLab Notebook, it may mean\n",
       "  that the widgets JavaScript is still loading. If this message persists, it\n",
       "  likely means that the widgets JavaScript library is either not installed or\n",
       "  not enabled. See the <a href=\"https://ipywidgets.readthedocs.io/en/stable/user_install.html\">Jupyter\n",
       "  Widgets Documentation</a> for setup instructions.\n",
       "</p>\n",
       "<p>\n",
       "  If you're reading this message in another frontend (for example, a static\n",
       "  rendering on GitHub or <a href=\"https://nbviewer.jupyter.org/\">NBViewer</a>),\n",
       "  it may mean that your frontend doesn't currently support widgets.\n",
       "</p>\n"
      ],
      "text/plain": [
       "VBox(children=(HTML(value='<b>Select the time window for PSTH analysis (in ms)</b>'), Dropdown(options=(('5', 1), ('10', 2)), value=1)))"
      ]
     },
     "metadata": {},
     "output_type": "display_data"
    }
   ],
   "source": [
    "##Main path for the data \n",
    "\n",
    "inputPath_html = ipywidgets.HTML(value = \"<p><b>Path to the data of the experiment:</b><br />Enter the path to the folder (with no '/' at the end) that is hierarchically right above the folders of the recording sessions</p>\")\n",
    "inputPath = ipywidgets.Text(value = \"/mnt/d/DatainAnalysis\", placeholder = \"Enter path for data\", disabled = False)\n",
    "display(VBox([inputPath_html, inputPath]))\n",
    "\n",
    "##Main path for the output results and figures \n",
    "\n",
    "outputPath_html = ipywidgets.HTML(value = \"<p><b>Path for the resulting analysis and figures:</b><br />Enter the path to the folder (with '/') where all results should be stored </p>\")\n",
    "outputPath = ipywidgets.Text(value = \"/mnt/c/Users/gwendolyn/Documents/ActiveAnalysis/AnalysisOutput\", placeholder = \"Enter path for data\", disabled = False)\n",
    "display(VBox([outputPath_html, outputPath]))\n",
    "\n",
    "##Sampling rate\n",
    "sr = ipywidgets.IntText(value = 32000, disabled = False)\n",
    "display(VBox([ipywidgets.HTML(value = \"<b> Sampling rate (Hz): </b>\"),sr]))\n",
    "\n",
    "##Probe info\n",
    "pi_html = ipywidgets.HTML(value = \"<b>Type of the probe used in the experiment</b>\")\n",
    "pi = ipywidgets.Dropdown(options=['a2x16_10mm_100_500_177', 'a2x16_10mm_50_500_177', 'a1x32_6mm_100_177', 'a4x8_5mm_200_400_177'], \n",
    "                   value = 'a2x16_10mm_100_500_177',  disabled = False)\n",
    "display(VBox([pi_html, pi]))\n",
    "\n",
    "##TimeWindow\n",
    "\n",
    "tw = ipywidgets.Dropdown(options = [('-0.050-0.20', 1), ('-0.010-0.050', 2)], value = 1, disabled = False)\n",
    "display(VBox([ipywidgets.HTML(value = \"<b>Select the time window for analysis(in s)</b>\"), tw]))\n",
    "\n",
    "#High_pass_freq\n",
    "\n",
    "hp = ipywidgets.FloatText(value = 800, disabled = False)\n",
    "display(VBox([ipywidgets.HTML(value = \"<b> Enter the cutoff frequency of the high pass filter to extract MUA from data (in Hz)\"), hp]))\n",
    "\n",
    "#Thresold\n",
    "\n",
    "th = ipywidgets.FloatText(value = 8, disabled = False)\n",
    "display(VBox([ipywidgets.HTML(value = \"<b> Enter the multiple of the standard deviation used for thresholding the data)\"), th]))\n",
    "\n",
    "\n",
    "#PSTH binsize \n",
    "psth_bs = ipywidgets.Dropdown(options = [('5', 1), ('10',2)], value = 1,  disabled = False)\n",
    "display(VBox([ipywidgets.HTML(value = \"<b>Select the time window for PSTH analysis (in ms)</b>\"), psth_bs]))"
   ]
  },
  {
   "cell_type": "markdown",
   "metadata": {},
   "source": [
    "### 3) Write Dictionary "
   ]
  },
  {
   "cell_type": "code",
   "execution_count": 4,
   "metadata": {},
   "outputs": [
    {
     "name": "stdout",
     "output_type": "stream",
     "text": [
      "loadding\n",
      "{'shanks': 1, 'probe_name': 'a1x32_6mm_100_177', 'nr_of_electrodes': 32, 'nr_of_electrodes_per_shank': 32, 'nr_of_shanks': 1, 'bottom_ycoord': 0, 'top_ycoord': 3200, 'id': array([[ 1, 32,  3, 30,  5, 28,  7, 26,  2, 31,  6, 17,  4, 29,  9, 18,\n",
      "         8, 27, 11, 19, 10, 25, 13, 20, 12, 24, 15, 21, 14, 23, 16, 22]]), 'sitespacing': 100, 'inputPath': '/mnt/e/UnpackedDatainAnalysis/mGE82838485', 'outputPath': '/mnt/d/ActiveAnalysis/AnalysisOutput/', 'sample_rate': 32000, 'evoked_pre': 0.05, 'evoked_post': 0.2, 'high_pass_freq': 800.0, 'threshold': 8.0, 'psth_binsize': 5}\n"
     ]
    }
   ],
   "source": [
    "p = {} #Parameter dictionary (empty)\n",
    "\n",
    "#Entering the probe info and electrode mapping into the dictionary\n",
    "probe_info = load_probe_info(pi.value)\n",
    "p['shanks'] = probe_info['numShanks']\n",
    "\n",
    "p['probe_name'] = probe_info['name']\n",
    "p['nr_of_electrodes'] = probe_info['numTrodes']\n",
    "p['nr_of_electrodes_per_shank'] = probe_info['numTrodesPerShank']\n",
    "p['nr_of_shanks'] = p['shanks']\n",
    "p['bottom_ycoord'] = probe_info['bottom_ycoord']\n",
    "p['top_ycoord'] = probe_info['top_ycoord']\n",
    "p['id'] = probe_info['id']\n",
    "p['sitespacing'] = probe_info['sitespacing']\n",
    "\n",
    "#Entering the path and file format info into the dictionary\n",
    "p['inputPath'] = inputPath.value\n",
    "p['outputPath'] = outputPath.value\n",
    "\n",
    "#Entering the general parameters into the dictionary\n",
    "p['sample_rate'] = sr.value\n",
    "    \n",
    "#Entering the MUA analysis parameters into the dictionary\n",
    "if tw.value == 1:\n",
    "    p['evoked_pre'] = 0.05\n",
    "    p['evoked_post'] = 0.20\n",
    "if tw.value == 2:\n",
    "    p['evoked_pre'] = 0.01\n",
    "    p['evoked_post'] = 0.05\n",
    "p['high_pass_freq'] = hp.value\n",
    "p['threshold'] = th.value \n",
    "if psth_bs.value == 1:\n",
    "    p['psth_binsize'] = 5 \n",
    "if psth_bs.value == 2:\n",
    "    p['psth_binsize'] = 10 \n",
    "        \n",
    "if not os.path.exists(outputPath.value + '/AnalysisFiles'):\n",
    "    os.mkdir(outputPath.value + '/AnalysisFiles')\n",
    "    \n",
    "#Saving the dictionary in the pickle file and csv named parametersDict\n",
    "pickle.dump(p, open((outputPath.value + '/AnalysisFiles/parametersDict.p'), 'wb'))\n",
    "\n",
    "with open(outputPath.value + '/AnalysisFiles/parametersDict.csv', 'w') as textfile:\n",
    "    fieldnames = ['Field', 'Value']\n",
    "    writer = csv.DictWriter(textfile, fieldnames = fieldnames)\n",
    "    writer.writeheader()\n",
    "    data = [dict(zip(fieldnames, [k,v])) for k, v in p.items()]\n",
    "    writer.writerows(data)\n",
    "    \n",
    "print(p)\n"
   ]
  },
  {
   "cell_type": "markdown",
   "metadata": {},
   "source": [
    "### 4) Complete Analysis"
   ]
  },
  {
   "cell_type": "code",
   "execution_count": null,
   "metadata": {},
   "outputs": [
    {
     "name": "stdout",
     "output_type": "stream",
     "text": [
      "mGE85_31.07.2019_O10C1.mcd\n",
      "Triggers_Deviant.dat\n"
     ]
    },
    {
     "name": "stderr",
     "output_type": "stream",
     "text": [
      "/home/gwendolyn/anaconda3/lib/python3.6/site-packages/scipy/stats/_continuous_distns.py:2386: RuntimeWarning: Mean of empty slice.\n",
      "  xbar = data.mean()\n",
      "/home/gwendolyn/anaconda3/lib/python3.6/site-packages/numpy/core/_methods.py:80: RuntimeWarning: invalid value encountered in double_scalars\n",
      "  ret = ret.dtype.type(ret / rcount)\n",
      "/home/gwendolyn/anaconda3/lib/python3.6/site-packages/scipy/stats/_continuous_distns.py:2403: RuntimeWarning: Mean of empty slice.\n",
      "  s = np.log(xbar) - np.log(data).mean()\n",
      "/home/gwendolyn/anaconda3/lib/python3.6/site-packages/scipy/stats/_continuous_distns.py:187: RuntimeWarning: Mean of empty slice.\n",
      "  loc = data.mean()\n",
      "/home/gwendolyn/anaconda3/lib/python3.6/site-packages/scipy/stats/_continuous_distns.py:192: RuntimeWarning: Mean of empty slice.\n",
      "  scale = np.sqrt(((data - loc)**2).mean())\n",
      "/mnt/c/Users/gwendolyn/Documents/EphysPipeline/gwendolyn_ephys_updated/mainAnalysisMUA_Simon.py:81: RuntimeWarning: Mean of empty slice.\n",
      "  avgTimetoFirstSpike = mins[np.nonzero(mins)].mean()\n",
      "/home/gwendolyn/anaconda3/lib/python3.6/site-packages/scipy/stats/_continuous_distns.py:2405: RuntimeWarning: divide by zero encountered in double_scalars\n",
      "  aest = (3-s + np.sqrt((s-3)**2 + 24*s)) / (12*s)\n",
      "/home/gwendolyn/anaconda3/lib/python3.6/site-packages/scipy/stats/_continuous_distns.py:2404: RuntimeWarning: invalid value encountered in double_scalars\n",
      "  func = lambda a: np.log(a) - sc.digamma(a) - s\n"
     ]
    },
    {
     "name": "stdout",
     "output_type": "stream",
     "text": [
      "Triggers_Standard.dat\n",
      "Triggers_Predeviant.dat\n",
      "Triggers_Postdeviant.dat\n",
      "mGE85_31.07.2019_O10C2.mcd\n",
      "Triggers_Deviant.dat\n",
      "Triggers_Standard.dat\n",
      "Triggers_Predeviant.dat\n"
     ]
    }
   ],
   "source": [
    "MUA_analyzeAllFiles(p)"
   ]
  },
  {
   "cell_type": "code",
   "execution_count": null,
   "metadata": {},
   "outputs": [],
   "source": []
  }
 ],
 "metadata": {
  "kernelspec": {
   "display_name": "Python 3",
   "language": "python",
   "name": "python3"
  },
  "language_info": {
   "codemirror_mode": {
    "name": "ipython",
    "version": 3
   },
   "file_extension": ".py",
   "mimetype": "text/x-python",
   "name": "python",
   "nbconvert_exporter": "python",
   "pygments_lexer": "ipython3",
   "version": "3.6.4"
  }
 },
 "nbformat": 4,
 "nbformat_minor": 2
}
