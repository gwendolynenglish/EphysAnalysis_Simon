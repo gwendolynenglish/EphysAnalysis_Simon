{
 "cells": [
  {
   "cell_type": "markdown",
   "metadata": {},
   "source": [
    "# Local Field Potential Evaluation \n",
    "#### This notebook steps through the analysis & production of figures "
   ]
  },
  {
   "cell_type": "markdown",
   "metadata": {},
   "source": [
    "### 1) Load Required Packages "
   ]
  },
  {
   "cell_type": "code",
   "execution_count": 1,
   "metadata": {
    "scrolled": false
   },
   "outputs": [],
   "source": [
    "#Import required packages|\n",
    "import pickle\n",
    "import os\n",
    "import ipywidgets\n",
    "import csv\n",
    "from ipywidgets import Layout, HBox, VBox\n",
    "from IPython.display import display\n",
    "from load_probe_info import *\n",
    "from cycleDirectoryLFP import *"
   ]
  },
  {
   "cell_type": "markdown",
   "metadata": {},
   "source": [
    "### 2) Provide Information for Dictionary "
   ]
  },
  {
   "cell_type": "code",
   "execution_count": 3,
   "metadata": {},
   "outputs": [
    {
     "output_type": "display_data",
     "data": {
      "text/plain": "VBox(children=(HTML(value=\"<p><b>Path to the data of the experiment:</b><br />Enter the path to the folder (wi…",
      "application/vnd.jupyter.widget-view+json": {
       "version_major": 2,
       "version_minor": 0,
       "model_id": "97dc12b7d3324eae89a0cdb74df4eff9"
      }
     },
     "metadata": {}
    },
    {
     "output_type": "display_data",
     "data": {
      "text/plain": "VBox(children=(HTML(value='<p><b>Path for the resulting analysis and figures:</b><br />Enter the path to the f…",
      "application/vnd.jupyter.widget-view+json": {
       "version_major": 2,
       "version_minor": 0,
       "model_id": "94efc00172b64c568ed377ef29e6f75c"
      }
     },
     "metadata": {}
    },
    {
     "output_type": "display_data",
     "data": {
      "text/plain": "VBox(children=(HTML(value='<b> Sampling rate (Hz): </b>'), IntText(value=32000)))",
      "application/vnd.jupyter.widget-view+json": {
       "version_major": 2,
       "version_minor": 0,
       "model_id": "afe21170cdd047af97aea77d4e91bf6d"
      }
     },
     "metadata": {}
    },
    {
     "output_type": "display_data",
     "data": {
      "text/plain": "VBox(children=(HTML(value='<b>Type of the probe used in the experiment</b>'), Dropdown(options=('a2x16_10mm_10…",
      "application/vnd.jupyter.widget-view+json": {
       "version_major": 2,
       "version_minor": 0,
       "model_id": "6be743cf48404e0098e4cbc8167a2bee"
      }
     },
     "metadata": {}
    },
    {
     "output_type": "display_data",
     "data": {
      "text/plain": "VBox(children=(HTML(value='<b>Select the time window for analysis(in ms)</b>'), Dropdown(options=(('-50-250', …",
      "application/vnd.jupyter.widget-view+json": {
       "version_major": 2,
       "version_minor": 0,
       "model_id": "cdaae7f625be4aeda226ee8f968653b2"
      }
     },
     "metadata": {}
    },
    {
     "output_type": "display_data",
     "data": {
      "text/plain": "VBox(children=(HTML(value='<b> Enter the cutoff frequency of the low pass filter to extract LFP from data (in …",
      "application/vnd.jupyter.widget-view+json": {
       "version_major": 2,
       "version_minor": 0,
       "model_id": "3545c9c71da64b4e95d539c645c74330"
      }
     },
     "metadata": {}
    },
    {
     "output_type": "display_data",
     "data": {
      "text/plain": "HBox(children=(HTML(value='<b> Check if Current Source Density analysis should be completed.'), Checkbox(value…",
      "application/vnd.jupyter.widget-view+json": {
       "version_major": 2,
       "version_minor": 0,
       "model_id": "1c1c91cc93134f69b965313be53d98d0"
      }
     },
     "metadata": {}
    }
   ],
   "source": [
    "##Main path for the data \n",
    "\n",
    "inputPath_html = ipywidgets.HTML(value = \"<p><b>Path to the data of the experiment:</b><br />Enter the path to the folder (with no '/' at the end) that is hierarchically right above the folders of the recording sessions</p>\")\n",
    "inputPath = ipywidgets.Text(value = \"/media/loaloa/gdrive/career/nsc_master/projects/ephys/data\", placeholder = \"Enter path for data\", disabled = False)\n",
    "display(VBox([inputPath_html, inputPath]))\n",
    "\n",
    "##Main path for the output results and figures \n",
    "\n",
    "outputPath_html = ipywidgets.HTML(value = \"<p><b>Path for the resulting analysis and figures:</b><br />Enter the path to the folder where all results should be stored </p>\")\n",
    "outputPath = ipywidgets.Text(value = \"/media/loaloa/gdrive/career/nsc_master/projects/ephys/output\", placeholder = \"Enter path for data\", disabled = False)\n",
    "display(VBox([outputPath_html, outputPath]))\n",
    "\n",
    "##Sampling rate\n",
    "sr = ipywidgets.IntText(value = 32000, disabled = False)\n",
    "display(VBox([ipywidgets.HTML(value = \"<b> Sampling rate (Hz): </b>\"),sr]))\n",
    "\n",
    "##Probe info\n",
    "pi_html = ipywidgets.HTML(value = \"<b>Type of the probe used in the experiment</b>\")\n",
    "pi = ipywidgets.Dropdown(options=['a2x16_10mm_100_500_177', 'a2x16_10mm_50_500_177', 'a1x32_6mm_100_177', 'a4x8_5mm_200_400_177','custom'], \n",
    "                   value = 'a1x32_6mm_100_177',  disabled = False)\n",
    "display(VBox([pi_html, pi]))\n",
    "\n",
    "##TimeWindow\n",
    "\n",
    "tw = ipywidgets.Dropdown(options = [('-50-250', 1), ('-50-500', 2)], disabled = False)\n",
    "display(VBox([ipywidgets.HTML(value = \"<b>Select the time window for analysis(in ms)</b>\"), tw]))\n",
    "\n",
    "#low_pass_freq\n",
    "\n",
    "lp = ipywidgets.FloatText(value = 500, disabled = False)\n",
    "display(VBox([ipywidgets.HTML(value = \"<b> Enter the cutoff frequency of the low pass filter to extract LFP from data (in Hz)\"), lp]))\n",
    "\n",
    "\n",
    "#CSD Analysis\n",
    "\n",
    "csd = ipywidgets.Checkbox(value = True, disabled = False)\n",
    "display(HBox([ipywidgets.HTML(value = \"<b> Check if Current Source Density analysis should be completed.\"), csd]))"
   ]
  },
  {
   "cell_type": "markdown",
   "metadata": {},
   "source": [
    "### 3) Write Dictionary "
   ]
  },
  {
   "cell_type": "code",
   "execution_count": 3,
   "metadata": {},
   "outputs": [
    {
     "name": "stdout",
     "output_type": "stream",
     "text": [
      "loadding\n",
      "{'shanks': 1, 'probe_name': 'a1x32_6mm_100_177', 'nr_of_electrodes': 32, 'nr_of_electrodes_per_shank': 32, 'nr_of_shanks': 1, 'bottom_ycoord': 0, 'top_ycoord': 3200, 'id': array([[ 1, 32,  3, 30,  5, 28,  7, 26,  2, 31,  6, 17,  4, 29,  9, 18,\n",
      "         8, 27, 11, 19, 10, 25, 13, 20, 12, 24, 15, 21, 14, 23, 16, 22]]), 'sitespacing': 100, 'inputPath': '/mnt/e/UnpackedDatainAnalysis/mGE82838485', 'outputPath': '/mnt/d/ActiveAnalysis/AnalysisOutput', 'sample_rate': 32000, 'evoked_pre': 0.05, 'evoked_post': 0.25, 'low_pass_freq': 500.0, 'csd': True}\n"
     ]
    }
   ],
   "source": [
    "p = {} #Parameter dictionary (empty)\n",
    "\n",
    "#Entering the probe info and electrode mapping into the dictionary\n",
    "probe_info = load_probe_info(pi.value)\n",
    "p['shanks'] = probe_info['numShanks']\n",
    "\n",
    "p['probe_name'] = probe_info['name']\n",
    "p['nr_of_electrodes'] = probe_info['numTrodes']\n",
    "p['nr_of_electrodes_per_shank'] = probe_info['numTrodesPerShank']\n",
    "p['nr_of_shanks'] = p['shanks']\n",
    "p['bottom_ycoord'] = probe_info['bottom_ycoord']\n",
    "p['top_ycoord'] = probe_info['top_ycoord']\n",
    "p['id'] = probe_info['id']\n",
    "p['sitespacing'] = probe_info['sitespacing']\n",
    "\n",
    "#Entering the path and file format info into the dictionary\n",
    "p['inputPath'] = inputPath.value\n",
    "p['outputPath'] = outputPath.value\n",
    "\n",
    "#Entering the general parameters into the dictionary\n",
    "p['sample_rate'] = sr.value\n",
    "    \n",
    "#Entering the LFP analysis parameters into the dictionary\n",
    "if tw.value == 1:\n",
    "    p['evoked_pre'] = 0.05\n",
    "    p['evoked_post'] = 0.250\n",
    "if tw.value == 2:\n",
    "    p['evoked_pre'] = 0.05\n",
    "    p['evoked_post'] = 0.5\n",
    "p['low_pass_freq'] = lp.value\n",
    "        \n",
    "p['csd'] = csd.value \n",
    "    \n",
    "if not os.path.exists(outputPath.value + '/AnalysisFiles'):\n",
    "    os.mkdir(outputPath.value + '/AnalysisFiles')\n",
    "    \n",
    "#Saving the dictionary in the pickle file and csv named parametersDict\n",
    "pickle.dump(p, open((outputPath.value + '/AnalysisFiles/parametersDict.p'), 'wb'))\n",
    "\n",
    "with open(outputPath.value + '/AnalysisFiles/parametersDict.csv', 'w') as textfile:\n",
    "    fieldnames = ['Field', 'Value']\n",
    "    writer = csv.DictWriter(textfile, fieldnames = fieldnames)\n",
    "    writer.writeheader()\n",
    "    data = [dict(zip(fieldnames, [k,v])) for k, v in p.items()]\n",
    "    writer.writerows(data)\n",
    "    \n",
    "print(p)\n"
   ]
  },
  {
   "cell_type": "markdown",
   "metadata": {},
   "source": [
    "\n",
    "### 4) Complete Analysis\n",
    "##### Cycles through all trigger files, producing all result files in a folder with the name of the main MCD file. \n",
    "##### Results: 1) CSD/Pickle files for all stimuli per channel, 2) CSD/Pickle/PNG files for averaged responses per channel to specific trigger categories, 3) PNG/SVG images of averaged responses for all channels on shank to specific trigger categories, and 4) If selected, CSV file for current source density analysis for each trigger category and corresponding plots and heatmaps. \n",
    "            "
   ]
  },
  {
   "cell_type": "code",
   "execution_count": 4,
   "metadata": {
    "scrolled": true
   },
   "outputs": [
    {
     "name": "stdout",
     "output_type": "stream",
     "text": [
      "/mnt/e/UnpackedDatainAnalysis/mGE82838485/mGE85_31.07.2019_O10C1.mcd/Triggers_AllStimuli.dat\n",
      "/mnt/e/UnpackedDatainAnalysis/mGE82838485/mGE85_31.07.2019_O10C1.mcd/Triggers_Deviant.dat\n",
      "/mnt/e/UnpackedDatainAnalysis/mGE82838485/mGE85_31.07.2019_O10C1.mcd/Triggers_Standard.dat\n",
      "/mnt/e/UnpackedDatainAnalysis/mGE82838485/mGE85_31.07.2019_O10C1.mcd/Triggers_Predeviant.dat\n",
      "/mnt/e/UnpackedDatainAnalysis/mGE82838485/mGE85_31.07.2019_O10C1.mcd/Triggers_Postdeviant.dat\n",
      "/mnt/e/UnpackedDatainAnalysis/mGE82838485/mGE85_31.07.2019_O10C2.mcd/Triggers_AllStimuli.dat\n",
      "/mnt/e/UnpackedDatainAnalysis/mGE82838485/mGE85_31.07.2019_O10C2.mcd/Triggers_Deviant.dat\n",
      "/mnt/e/UnpackedDatainAnalysis/mGE82838485/mGE85_31.07.2019_O10C2.mcd/Triggers_Standard.dat\n",
      "/mnt/e/UnpackedDatainAnalysis/mGE82838485/mGE85_31.07.2019_O10C2.mcd/Triggers_Predeviant.dat\n"
     ]
    },
    {
     "ename": "KeyboardInterrupt",
     "evalue": "",
     "output_type": "error",
     "traceback": [
      "\u001b[0;31m---------------------------------------------------------------------------\u001b[0m",
      "\u001b[0;31mKeyboardInterrupt\u001b[0m                         Traceback (most recent call last)",
      "\u001b[0;32m<ipython-input-4-b37e953887ee>\u001b[0m in \u001b[0;36m<module>\u001b[0;34m()\u001b[0m\n\u001b[0;32m----> 1\u001b[0;31m \u001b[0manalyzeAllFiles\u001b[0m\u001b[0;34m(\u001b[0m\u001b[0mp\u001b[0m\u001b[0;34m)\u001b[0m\u001b[0;34m\u001b[0m\u001b[0m\n\u001b[0m",
      "\u001b[0;32m/mnt/c/Users/gwendolyn/Documents/EphysPipeline/gwendolyn_ephys_updated/cycleDirectoryLFP.py\u001b[0m in \u001b[0;36manalyzeAllFiles\u001b[0;34m(p)\u001b[0m\n\u001b[1;32m     54\u001b[0m                         \u001b[0mdataPath\u001b[0m \u001b[0;34m=\u001b[0m \u001b[0mp\u001b[0m\u001b[0;34m[\u001b[0m\u001b[0;34m'inputPath'\u001b[0m\u001b[0;34m]\u001b[0m \u001b[0;34m+\u001b[0m \u001b[0;34m'/'\u001b[0m \u001b[0;34m+\u001b[0m \u001b[0mfolder\u001b[0m \u001b[0;34m+\u001b[0m \u001b[0;34m'/'\u001b[0m \u001b[0;34m+\u001b[0m \u001b[0mchannelFile\u001b[0m\u001b[0;34m\u001b[0m\u001b[0m\n\u001b[1;32m     55\u001b[0m \u001b[0;34m\u001b[0m\u001b[0m\n\u001b[0;32m---> 56\u001b[0;31m                         \u001b[0msummarydata\u001b[0m \u001b[0;34m=\u001b[0m \u001b[0mavgStimuli\u001b[0m\u001b[0;34m(\u001b[0m\u001b[0mp\u001b[0m\u001b[0;34m,\u001b[0m \u001b[0mdataPath\u001b[0m\u001b[0;34m,\u001b[0m \u001b[0mtriggerArray\u001b[0m\u001b[0;34m,\u001b[0m \u001b[0moutputpathFolder\u001b[0m\u001b[0;34m,\u001b[0m \u001b[0mfile\u001b[0m\u001b[0;34m,\u001b[0m \u001b[0mchannelFile\u001b[0m\u001b[0;34m)\u001b[0m\u001b[0;34m\u001b[0m\u001b[0m\n\u001b[0m\u001b[1;32m     57\u001b[0m                         \u001b[0mavgdatatofile\u001b[0m\u001b[0;34m.\u001b[0m\u001b[0mappend\u001b[0m\u001b[0;34m(\u001b[0m\u001b[0msummarydata\u001b[0m\u001b[0;34m)\u001b[0m\u001b[0;34m\u001b[0m\u001b[0m\n\u001b[1;32m     58\u001b[0m \u001b[0;34m\u001b[0m\u001b[0m\n",
      "\u001b[0;32m/mnt/c/Users/gwendolyn/Documents/EphysPipeline/gwendolyn_ephys_updated/mainAnalysisLFP.py\u001b[0m in \u001b[0;36mavgStimuli\u001b[0;34m(p, avg_dataPath, avg_trigger_array, outputpathFolder, triggerFile, channelFile)\u001b[0m\n\u001b[1;32m    122\u001b[0m \u001b[0;34m\u001b[0m\u001b[0m\n\u001b[1;32m    123\u001b[0m     \u001b[0;31m#Compute wavelet transform for each trial and average coefficients\u001b[0m\u001b[0;34m\u001b[0m\u001b[0;34m\u001b[0m\u001b[0m\n\u001b[0;32m--> 124\u001b[0;31m     \u001b[0mavg_coeff\u001b[0m\u001b[0;34m,\u001b[0m \u001b[0mfreq\u001b[0m \u001b[0;34m=\u001b[0m \u001b[0mwavelet_cycle_trials\u001b[0m\u001b[0;34m(\u001b[0m\u001b[0mavg_normed_ds_aligned_filtered_channel_array\u001b[0m\u001b[0;34m,\u001b[0m \u001b[0mp\u001b[0m\u001b[0;34m)\u001b[0m\u001b[0;34m\u001b[0m\u001b[0m\n\u001b[0m\u001b[1;32m    125\u001b[0m \u001b[0;34m\u001b[0m\u001b[0m\n\u001b[1;32m    126\u001b[0m     \u001b[0;31m#Plot wavelet transform\u001b[0m\u001b[0;34m\u001b[0m\u001b[0;34m\u001b[0m\u001b[0m\n",
      "\u001b[0;32m/mnt/c/Users/gwendolyn/Documents/EphysPipeline/gwendolyn_ephys_updated/analysisFunctionsLFP.py\u001b[0m in \u001b[0;36mwavelet_cycle_trials\u001b[0;34m(data, p)\u001b[0m\n\u001b[1;32m    130\u001b[0m     \u001b[0;31m#Compute wavelet coefficients for each trial\u001b[0m\u001b[0;34m\u001b[0m\u001b[0;34m\u001b[0m\u001b[0m\n\u001b[1;32m    131\u001b[0m     \u001b[0;32mfor\u001b[0m \u001b[0mtrial\u001b[0m \u001b[0;32min\u001b[0m \u001b[0mnp\u001b[0m\u001b[0;34m.\u001b[0m\u001b[0marange\u001b[0m\u001b[0;34m(\u001b[0m\u001b[0mnp\u001b[0m\u001b[0;34m.\u001b[0m\u001b[0mshape\u001b[0m\u001b[0;34m(\u001b[0m\u001b[0mdata\u001b[0m\u001b[0;34m)\u001b[0m\u001b[0;34m[\u001b[0m\u001b[0;36m0\u001b[0m\u001b[0;34m]\u001b[0m\u001b[0;34m)\u001b[0m\u001b[0;34m:\u001b[0m\u001b[0;34m\u001b[0m\u001b[0m\n\u001b[0;32m--> 132\u001b[0;31m         \u001b[0mcoef\u001b[0m\u001b[0;34m,\u001b[0m \u001b[0mfreq\u001b[0m \u001b[0;34m=\u001b[0m \u001b[0mwavelet_transform\u001b[0m\u001b[0;34m(\u001b[0m\u001b[0mdata\u001b[0m\u001b[0;34m[\u001b[0m\u001b[0mtrial\u001b[0m\u001b[0;34m]\u001b[0m\u001b[0;34m,\u001b[0m \u001b[0mp\u001b[0m\u001b[0;34m)\u001b[0m\u001b[0;34m\u001b[0m\u001b[0m\n\u001b[0m\u001b[1;32m    133\u001b[0m         \u001b[0mwavelet_coeff\u001b[0m\u001b[0;34m.\u001b[0m\u001b[0mappend\u001b[0m\u001b[0;34m(\u001b[0m\u001b[0mcoef\u001b[0m\u001b[0;34m)\u001b[0m\u001b[0;34m\u001b[0m\u001b[0m\n\u001b[1;32m    134\u001b[0m \u001b[0;34m\u001b[0m\u001b[0m\n",
      "\u001b[0;32m/mnt/c/Users/gwendolyn/Documents/EphysPipeline/gwendolyn_ephys_updated/analysisFunctionsLFP.py\u001b[0m in \u001b[0;36mwavelet_transform\u001b[0;34m(signal, p)\u001b[0m\n\u001b[1;32m    114\u001b[0m \u001b[0;34m\u001b[0m\u001b[0m\n\u001b[1;32m    115\u001b[0m     \u001b[0;31m#Complete wavelet anlaysis\u001b[0m\u001b[0;34m\u001b[0m\u001b[0;34m\u001b[0m\u001b[0m\n\u001b[0;32m--> 116\u001b[0;31m     \u001b[0mcoef\u001b[0m\u001b[0;34m,\u001b[0m \u001b[0mfreq\u001b[0m \u001b[0;34m=\u001b[0m \u001b[0mpywt\u001b[0m\u001b[0;34m.\u001b[0m\u001b[0mcwt\u001b[0m\u001b[0;34m(\u001b[0m\u001b[0msignal\u001b[0m\u001b[0;34m,\u001b[0m \u001b[0mscales\u001b[0m\u001b[0;34m,\u001b[0m \u001b[0;34m'morl'\u001b[0m\u001b[0;34m,\u001b[0m \u001b[0msampling_period\u001b[0m\u001b[0;34m)\u001b[0m\u001b[0;34m\u001b[0m\u001b[0m\n\u001b[0m\u001b[1;32m    117\u001b[0m \u001b[0;34m\u001b[0m\u001b[0m\n\u001b[1;32m    118\u001b[0m     \u001b[0;32mreturn\u001b[0m \u001b[0mcoef\u001b[0m\u001b[0;34m,\u001b[0m \u001b[0mfreq\u001b[0m\u001b[0;34m\u001b[0m\u001b[0m\n",
      "\u001b[0;32m~/anaconda3/lib/python3.6/site-packages/pywt/_cwt.py\u001b[0m in \u001b[0;36mcwt\u001b[0;34m(data, scales, wavelet, sampling_period)\u001b[0m\n\u001b[1;32m     76\u001b[0m         \u001b[0;32mfor\u001b[0m \u001b[0mi\u001b[0m \u001b[0;32min\u001b[0m \u001b[0mnp\u001b[0m\u001b[0;34m.\u001b[0m\u001b[0marange\u001b[0m\u001b[0;34m(\u001b[0m\u001b[0mnp\u001b[0m\u001b[0;34m.\u001b[0m\u001b[0msize\u001b[0m\u001b[0;34m(\u001b[0m\u001b[0mscales\u001b[0m\u001b[0;34m)\u001b[0m\u001b[0;34m)\u001b[0m\u001b[0;34m:\u001b[0m\u001b[0;34m\u001b[0m\u001b[0m\n\u001b[1;32m     77\u001b[0m             \u001b[0mprecision\u001b[0m \u001b[0;34m=\u001b[0m \u001b[0;36m10\u001b[0m\u001b[0;34m\u001b[0m\u001b[0m\n\u001b[0;32m---> 78\u001b[0;31m             \u001b[0mint_psi\u001b[0m\u001b[0;34m,\u001b[0m \u001b[0mx\u001b[0m \u001b[0;34m=\u001b[0m \u001b[0mintegrate_wavelet\u001b[0m\u001b[0;34m(\u001b[0m\u001b[0mwavelet\u001b[0m\u001b[0;34m,\u001b[0m \u001b[0mprecision\u001b[0m\u001b[0;34m=\u001b[0m\u001b[0mprecision\u001b[0m\u001b[0;34m)\u001b[0m\u001b[0;34m\u001b[0m\u001b[0m\n\u001b[0m\u001b[1;32m     79\u001b[0m             \u001b[0mstep\u001b[0m \u001b[0;34m=\u001b[0m \u001b[0mx\u001b[0m\u001b[0;34m[\u001b[0m\u001b[0;36m1\u001b[0m\u001b[0;34m]\u001b[0m \u001b[0;34m-\u001b[0m \u001b[0mx\u001b[0m\u001b[0;34m[\u001b[0m\u001b[0;36m0\u001b[0m\u001b[0;34m]\u001b[0m\u001b[0;34m\u001b[0m\u001b[0m\n\u001b[1;32m     80\u001b[0m             j = np.floor(\n",
      "\u001b[0;32m~/anaconda3/lib/python3.6/site-packages/pywt/_functions.py\u001b[0m in \u001b[0;36mintegrate_wavelet\u001b[0;34m(wavelet, precision)\u001b[0m\n\u001b[1;32m    102\u001b[0m         \u001b[0;32mreturn\u001b[0m \u001b[0m_integrate\u001b[0m\u001b[0;34m(\u001b[0m\u001b[0mpsi\u001b[0m\u001b[0;34m,\u001b[0m \u001b[0mstep\u001b[0m\u001b[0;34m)\u001b[0m\u001b[0;34m,\u001b[0m \u001b[0mx\u001b[0m\u001b[0;34m\u001b[0m\u001b[0m\n\u001b[1;32m    103\u001b[0m \u001b[0;34m\u001b[0m\u001b[0m\n\u001b[0;32m--> 104\u001b[0;31m     \u001b[0mfunctions_approximations\u001b[0m \u001b[0;34m=\u001b[0m \u001b[0mwavelet\u001b[0m\u001b[0;34m.\u001b[0m\u001b[0mwavefun\u001b[0m\u001b[0;34m(\u001b[0m\u001b[0mprecision\u001b[0m\u001b[0;34m)\u001b[0m\u001b[0;34m\u001b[0m\u001b[0m\n\u001b[0m\u001b[1;32m    105\u001b[0m \u001b[0;34m\u001b[0m\u001b[0m\n\u001b[1;32m    106\u001b[0m     \u001b[0;32mif\u001b[0m \u001b[0mlen\u001b[0m\u001b[0;34m(\u001b[0m\u001b[0mfunctions_approximations\u001b[0m\u001b[0;34m)\u001b[0m \u001b[0;34m==\u001b[0m \u001b[0;36m2\u001b[0m\u001b[0;34m:\u001b[0m      \u001b[0;31m# continuous wavelet\u001b[0m\u001b[0;34m\u001b[0m\u001b[0m\n",
      "\u001b[0;32mpywt/_extensions/_pywt.pyx\u001b[0m in \u001b[0;36mpywt._extensions._pywt.ContinuousWavelet.wavefun\u001b[0;34m()\u001b[0m\n",
      "\u001b[0;32m~/anaconda3/lib/python3.6/site-packages/numpy/core/numeric.py\u001b[0m in \u001b[0;36masarray\u001b[0;34m(a, dtype, order)\u001b[0m\n\u001b[1;32m    422\u001b[0m \u001b[0;34m\u001b[0m\u001b[0m\n\u001b[1;32m    423\u001b[0m \u001b[0;34m\u001b[0m\u001b[0m\n\u001b[0;32m--> 424\u001b[0;31m \u001b[0;32mdef\u001b[0m \u001b[0masarray\u001b[0m\u001b[0;34m(\u001b[0m\u001b[0ma\u001b[0m\u001b[0;34m,\u001b[0m \u001b[0mdtype\u001b[0m\u001b[0;34m=\u001b[0m\u001b[0;32mNone\u001b[0m\u001b[0;34m,\u001b[0m \u001b[0morder\u001b[0m\u001b[0;34m=\u001b[0m\u001b[0;32mNone\u001b[0m\u001b[0;34m)\u001b[0m\u001b[0;34m:\u001b[0m\u001b[0;34m\u001b[0m\u001b[0m\n\u001b[0m\u001b[1;32m    425\u001b[0m     \"\"\"Convert the input to an array.\n\u001b[1;32m    426\u001b[0m \u001b[0;34m\u001b[0m\u001b[0m\n",
      "\u001b[0;31mKeyboardInterrupt\u001b[0m: "
     ]
    }
   ],
   "source": [
    "analyzeAllFiles(p)"
   ]
  },
  {
   "cell_type": "markdown",
   "metadata": {},
   "source": [
    "## Analysis Complete! All analysis file and figures are embedded within the ActiveAnalysis/AnalysisOutput folders in Documents. "
   ]
  }
 ],
 "metadata": {
  "kernelspec": {
   "display_name": "Python 3",
   "language": "python",
   "name": "python3"
  },
  "language_info": {
   "codemirror_mode": {
    "name": "ipython",
    "version": 3
   },
   "file_extension": ".py",
   "mimetype": "text/x-python",
   "name": "python",
   "nbconvert_exporter": "python",
   "pygments_lexer": "ipython3",
   "version": "3.8.1-final"
  }
 },
 "nbformat": 4,
 "nbformat_minor": 2
}