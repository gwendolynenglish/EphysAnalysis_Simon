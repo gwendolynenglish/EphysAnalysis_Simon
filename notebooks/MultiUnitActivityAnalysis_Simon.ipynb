{
 "cells": [
  {
   "cell_type": "markdown",
   "metadata": {},
   "source": [
    "# Multi Unit Activity Analysis\n"
   ]
  },
  {
   "cell_type": "markdown",
   "metadata": {},
   "source": [
    "### 1) Load Required Packages "
   ]
  },
  {
   "cell_type": "code",
   "execution_count": 1,
   "metadata": {},
   "outputs": [],
   "source": [
    "#Import required packages\n",
    "import pickle\n",
    "import os\n",
    "import ipywidgets\n",
    "import csv\n",
    "import numpy as np\n",
    "from ipywidgets import Layout, HBox, VBox\n",
    "from IPython.display import display\n",
    "from load_probe_info import *\n",
    "from MUA_cycle_dirs import *"
   ]
  },
  {
   "cell_type": "markdown",
   "metadata": {},
   "source": [
    "### 2) Provide Information for Dictionary "
   ]
  },
  {
   "cell_type": "code",
   "execution_count": 2,
   "metadata": {},
   "outputs": [
    {
     "data": {
      "application/vnd.jupyter.widget-view+json": {
       "model_id": "66835f56f0be4054b3f606ba59ff772e",
       "version_major": 2,
       "version_minor": 0
      },
      "text/plain": [
       "VBox(children=(HTML(value=\"<p><b>Path to the data of the experiment:</b><br />Enter the path to the folder (wi…"
      ]
     },
     "metadata": {},
     "output_type": "display_data"
    },
    {
     "data": {
      "application/vnd.jupyter.widget-view+json": {
       "model_id": "57a90b0174d3420aaadd80fc74df5093",
       "version_major": 2,
       "version_minor": 0
      },
      "text/plain": [
       "VBox(children=(HTML(value=\"<p><b>Path for the resulting analysis and figures:</b><br />Enter the path to the f…"
      ]
     },
     "metadata": {},
     "output_type": "display_data"
    },
    {
     "data": {
      "application/vnd.jupyter.widget-view+json": {
       "model_id": "6fedf676ff774e8f9718fcca45858fc3",
       "version_major": 2,
       "version_minor": 0
      },
      "text/plain": [
       "VBox(children=(HTML(value='<b> Sampling rate (Hz): </b>'), IntText(value=32000)))"
      ]
     },
     "metadata": {},
     "output_type": "display_data"
    },
    {
     "data": {
      "application/vnd.jupyter.widget-view+json": {
       "model_id": "c373b0a813924d7486d92f0c86c120fd",
       "version_major": 2,
       "version_minor": 0
      },
      "text/plain": [
       "VBox(children=(HTML(value='<b>Type of the probe used in the experiment</b>'), Dropdown(index=2, options=('a2x1…"
      ]
     },
     "metadata": {},
     "output_type": "display_data"
    },
    {
     "data": {
      "application/vnd.jupyter.widget-view+json": {
       "model_id": "acafeaf33e754ee8b85ca5690e3a4965",
       "version_major": 2,
       "version_minor": 0
      },
      "text/plain": [
       "VBox(children=(HTML(value='<b>Select the time window for analysis(in s)</b>'), Dropdown(options=(('-0.050-0.20…"
      ]
     },
     "metadata": {},
     "output_type": "display_data"
    },
    {
     "data": {
      "application/vnd.jupyter.widget-view+json": {
       "model_id": "d47e5f3b90ea4ac09fdfd150b0fb3278",
       "version_major": 2,
       "version_minor": 0
      },
      "text/plain": [
       "VBox(children=(HTML(value='<b> Enter the cutoff frequency of the high pass filter to extract MUA from data (in…"
      ]
     },
     "metadata": {},
     "output_type": "display_data"
    },
    {
     "data": {
      "application/vnd.jupyter.widget-view+json": {
       "model_id": "0c2df5a9a7ae4d95a21034ba38a9cfdf",
       "version_major": 2,
       "version_minor": 0
      },
      "text/plain": [
       "VBox(children=(HTML(value='<b> Enter the multiple of the standard deviation used for thresholding the data)'),…"
      ]
     },
     "metadata": {},
     "output_type": "display_data"
    },
    {
     "data": {
      "application/vnd.jupyter.widget-view+json": {
       "model_id": "04657e64bcd8419d92874698cdd55546",
       "version_major": 2,
       "version_minor": 0
      },
      "text/plain": [
       "VBox(children=(HTML(value='<b>Select the time window for PSTH analysis (in ms)</b>'), Dropdown(options=(('5', …"
      ]
     },
     "metadata": {},
     "output_type": "display_data"
    }
   ],
   "source": [
    "##Main path for the data \n",
    "\n",
    "inputPath_html = ipywidgets.HTML(value = \"<p><b>Path to the data of the experiment:</b><br />Enter the path to the folder (with no '/' at the end) that is hierarchically right above the folders of the recording sessions</p>\")\n",
    "inputPath = ipywidgets.Text(value = \"/media/loaloa/gdrive/career/nsc_master/projects/ephys/data\", placeholder = \"Enter path for data\", disabled = False)\n",
    "display(VBox([inputPath_html, inputPath]))\n",
    "\n",
    "##Main path for the output results and figures \n",
    "\n",
    "outputPath_html = ipywidgets.HTML(value = \"<p><b>Path for the resulting analysis and figures:</b><br />Enter the path to the folder (with '/') where all results should be stored </p>\")\n",
    "outputPath = ipywidgets.Text(value = \"/media/loaloa/gdrive/career/nsc_master/projects/ephys/output\", placeholder = \"Enter path for data\", disabled = False)\n",
    "display(VBox([outputPath_html, outputPath]))\n",
    "\n",
    "##Sampling rate\n",
    "sr = ipywidgets.IntText(value = 32000, disabled = False)\n",
    "display(VBox([ipywidgets.HTML(value = \"<b> Sampling rate (Hz): </b>\"),sr]))\n",
    "\n",
    "##Probe info\n",
    "pi_html = ipywidgets.HTML(value = \"<b>Type of the probe used in the experiment</b>\")\n",
    "pi = ipywidgets.Dropdown(options=['a2x16_10mm_100_500_177', 'a2x16_10mm_50_500_177', 'a1x32_6mm_100_177', 'a4x8_5mm_200_400_177'], \n",
    "                   value = 'a1x32_6mm_100_177',  disabled = False)\n",
    "display(VBox([pi_html, pi]))\n",
    "\n",
    "##TimeWindow\n",
    "\n",
    "tw = ipywidgets.Dropdown(options = [('-0.050-0.20', 1), ('-0.010-0.050', 2)], value = 1, disabled = False)\n",
    "display(VBox([ipywidgets.HTML(value = \"<b>Select the time window for analysis(in s)</b>\"), tw]))\n",
    "\n",
    "#High_pass_freq\n",
    "\n",
    "hp = ipywidgets.FloatText(value = 800, disabled = False)\n",
    "display(VBox([ipywidgets.HTML(value = \"<b> Enter the cutoff frequency of the high pass filter to extract MUA from data (in Hz)\"), hp]))\n",
    "\n",
    "#Thresold\n",
    "\n",
    "th = ipywidgets.FloatText(value = 8, disabled = False)\n",
    "display(VBox([ipywidgets.HTML(value = \"<b> Enter the multiple of the standard deviation used for thresholding the data)\"), th]))\n",
    "\n",
    "\n",
    "#PSTH binsize \n",
    "psth_bs = ipywidgets.Dropdown(options = [('5', 1), ('10',2)], value = 1,  disabled = False)\n",
    "display(VBox([ipywidgets.HTML(value = \"<b>Select the time window for PSTH analysis (in ms)</b>\"), psth_bs]))"
   ]
  },
  {
   "cell_type": "markdown",
   "metadata": {},
   "source": [
    "### 3) Write Dictionary "
   ]
  },
  {
   "cell_type": "code",
   "execution_count": 3,
   "metadata": {},
   "outputs": [
    {
     "name": "stdout",
     "output_type": "stream",
     "text": [
      "loadding\n",
      "{'shanks': 1, 'probe_name': 'a1x32_6mm_100_177', 'nr_of_electrodes': 32, 'nr_of_electrodes_per_shank': 32, 'nr_of_shanks': 1, 'bottom_ycoord': 0, 'top_ycoord': 3200, 'id': array([[ 1, 32,  3, 30,  5, 28,  7, 26,  2, 31,  6, 17,  4, 29,  9, 18,\n",
      "         8, 27, 11, 19, 10, 25, 13, 20, 12, 24, 15, 21, 14, 23, 16, 22]]), 'sitespacing': 100, 'inputPath': '/media/loaloa/gdrive/career/nsc_master/projects/ephys/data', 'outputPath': '/media/loaloa/gdrive/career/nsc_master/projects/ephys/output', 'sample_rate': 32000, 'evoked_pre': 0.05, 'evoked_post': 0.2, 'high_pass_freq': 800.0, 'threshold': 8.0, 'psth_binsize': 5}\n"
     ]
    }
   ],
   "source": [
    "p = {} #Parameter dictionary (empty)\n",
    "\n",
    "#Entering the probe info and electrode mapping into the dictionary\n",
    "probe_info = load_probe_info(pi.value)\n",
    "p['shanks'] = probe_info['numShanks']\n",
    "\n",
    "p['probe_name'] = probe_info['name']\n",
    "p['nr_of_electrodes'] = probe_info['numTrodes']\n",
    "p['nr_of_electrodes_per_shank'] = probe_info['numTrodesPerShank']\n",
    "p['nr_of_shanks'] = p['shanks']\n",
    "p['bottom_ycoord'] = probe_info['bottom_ycoord']\n",
    "p['top_ycoord'] = probe_info['top_ycoord']\n",
    "p['id'] = probe_info['id']\n",
    "p['sitespacing'] = probe_info['sitespacing']\n",
    "\n",
    "#Entering the path and file format info into the dictionary\n",
    "p['inputPath'] = inputPath.value\n",
    "p['outputPath'] = outputPath.value\n",
    "\n",
    "#Entering the general parameters into the dictionary\n",
    "p['sample_rate'] = sr.value\n",
    "    \n",
    "#Entering the MUA analysis parameters into the dictionary\n",
    "if tw.value == 1:\n",
    "    p['evoked_pre'] = 0.05\n",
    "    p['evoked_post'] = 0.20\n",
    "if tw.value == 2:\n",
    "    p['evoked_pre'] = 0.01\n",
    "    p['evoked_post'] = 0.05\n",
    "p['high_pass_freq'] = hp.value\n",
    "p['threshold'] = th.value \n",
    "if psth_bs.value == 1:\n",
    "    p['psth_binsize'] = 5 \n",
    "if psth_bs.value == 2:\n",
    "    p['psth_binsize'] = 10 \n",
    "        \n",
    "if not os.path.exists(outputPath.value + '/AnalysisFiles'):\n",
    "    os.mkdir(outputPath.value + '/AnalysisFiles')\n",
    "    \n",
    "#Saving the dictionary in the pickle file and csv named parametersDict\n",
    "pickle.dump(p, open((outputPath.value + '/AnalysisFiles/parametersDict.p'), 'wb'))\n",
    "\n",
    "with open(outputPath.value + '/AnalysisFiles/parametersDict.csv', 'w') as textfile:\n",
    "    fieldnames = ['Field', 'Value']\n",
    "    writer = csv.DictWriter(textfile, fieldnames = fieldnames)\n",
    "    writer.writeheader()\n",
    "    data = [dict(zip(fieldnames, [k,v])) for k, v in p.items()]\n",
    "    writer.writerows(data)\n",
    "    \n",
    "print(p)\n"
   ]
  },
  {
   "cell_type": "markdown",
   "metadata": {},
   "source": [
    "### 4) Complete Analysis"
   ]
  },
  {
   "cell_type": "code",
   "execution_count": 4,
   "metadata": {},
   "outputs": [
    {
     "name": "stdout",
     "output_type": "stream",
     "text": [
      "mGE85_31.07.2019_O10C1.mcd\n",
      "Triggers_Deviant.dat\n",
      "1600.0 6400.0\n"
     ]
    },
    {
     "ename": "TypeError",
     "evalue": "'NoneType' object is not subscriptable",
     "output_type": "error",
     "traceback": [
      "\u001b[0;31m---------------------------------------------------------------------------\u001b[0m",
      "\u001b[0;31mTypeError\u001b[0m                                 Traceback (most recent call last)",
      "\u001b[0;32m<ipython-input-4-f5f86ad158cc>\u001b[0m in \u001b[0;36m<module>\u001b[0;34m\u001b[0m\n\u001b[0;32m----> 1\u001b[0;31m \u001b[0mMUA_analyzeAllFiles\u001b[0m\u001b[0;34m(\u001b[0m\u001b[0mp\u001b[0m\u001b[0;34m)\u001b[0m\u001b[0;34m\u001b[0m\u001b[0;34m\u001b[0m\u001b[0m\n\u001b[0m",
      "\u001b[0;32m/media/loaloa/gdrive/career/nsc_master/projects/ephys/code/MUA_cycle_dirs.py\u001b[0m in \u001b[0;36mMUA_analyzeAllFiles\u001b[0;34m(p)\u001b[0m\n\u001b[1;32m     60\u001b[0m \u001b[0;34m\u001b[0m\u001b[0m\n\u001b[1;32m     61\u001b[0m                         \u001b[0;31m#Complete Analysis\u001b[0m\u001b[0;34m\u001b[0m\u001b[0;34m\u001b[0m\u001b[0;34m\u001b[0m\u001b[0m\n\u001b[0;32m---> 62\u001b[0;31m                         \u001b[0msummary_data\u001b[0m\u001b[0;34m,\u001b[0m \u001b[0mfiring_rates\u001b[0m \u001b[0;34m=\u001b[0m \u001b[0mtriggers\u001b[0m\u001b[0;34m(\u001b[0m\u001b[0mtrigger_array\u001b[0m\u001b[0;34m,\u001b[0m \u001b[0mchannel_array\u001b[0m\u001b[0;34m,\u001b[0m \u001b[0moutputpathFolder\u001b[0m\u001b[0;34m,\u001b[0m \u001b[0mfile\u001b[0m\u001b[0;34m,\u001b[0m \u001b[0mchannel_file\u001b[0m\u001b[0;34m,\u001b[0m \u001b[0mp\u001b[0m\u001b[0;34m)\u001b[0m\u001b[0;34m\u001b[0m\u001b[0;34m\u001b[0m\u001b[0m\n\u001b[0m\u001b[1;32m     63\u001b[0m \u001b[0;34m\u001b[0m\u001b[0m\n\u001b[1;32m     64\u001b[0m                         \u001b[0;31m#Append summary data\u001b[0m\u001b[0;34m\u001b[0m\u001b[0;34m\u001b[0m\u001b[0;34m\u001b[0m\u001b[0m\n",
      "\u001b[0;32m/media/loaloa/gdrive/career/nsc_master/projects/ephys/code/mainAnalysisMUA_Simon.py\u001b[0m in \u001b[0;36mtriggers\u001b[0;34m(trigger_array, channel_array, outputpathFolder, trigger_filename, channel_filename, p)\u001b[0m\n\u001b[1;32m     33\u001b[0m     \u001b[0;31m#Extract all spike timestamps\u001b[0m\u001b[0;34m\u001b[0m\u001b[0;34m\u001b[0m\u001b[0;34m\u001b[0m\u001b[0m\n\u001b[1;32m     34\u001b[0m     \u001b[0mneg_timestamps_withLabel\u001b[0m \u001b[0;34m=\u001b[0m \u001b[0mextract_ts\u001b[0m\u001b[0;34m(\u001b[0m\u001b[0mneg_crossings\u001b[0m\u001b[0;34m,\u001b[0m \u001b[0mp\u001b[0m\u001b[0;34m)\u001b[0m    \u001b[0;31m#Extracts all pre- and post- stimulus neg spike timestamps\u001b[0m\u001b[0;34m\u001b[0m\u001b[0;34m\u001b[0m\u001b[0m\n\u001b[0;32m---> 35\u001b[0;31m     \u001b[0mneg_timestamps\u001b[0m \u001b[0;34m=\u001b[0m \u001b[0mneg_timestamps_withLabel\u001b[0m\u001b[0;34m[\u001b[0m\u001b[0;34m:\u001b[0m\u001b[0;34m,\u001b[0m\u001b[0;36m1\u001b[0m\u001b[0;34m:\u001b[0m\u001b[0;34m]\u001b[0m            \u001b[0;31m#Remove stimulus label column\u001b[0m\u001b[0;34m\u001b[0m\u001b[0;34m\u001b[0m\u001b[0m\n\u001b[0m\u001b[1;32m     36\u001b[0m \u001b[0;34m\u001b[0m\u001b[0m\n\u001b[1;32m     37\u001b[0m     \u001b[0mpos_timestamps_withLabel\u001b[0m \u001b[0;34m=\u001b[0m \u001b[0mextract_ts\u001b[0m\u001b[0;34m(\u001b[0m\u001b[0mpos_crossings\u001b[0m\u001b[0;34m,\u001b[0m \u001b[0mp\u001b[0m\u001b[0;34m)\u001b[0m    \u001b[0;31m#Extracts all pre- and post- stimulus neg spike timestamps\u001b[0m\u001b[0;34m\u001b[0m\u001b[0;34m\u001b[0m\u001b[0m\n",
      "\u001b[0;31mTypeError\u001b[0m: 'NoneType' object is not subscriptable"
     ]
    }
   ],
   "source": [
    "MUA_analyzeAllFiles(p)"
   ]
  },
  {
   "cell_type": "code",
   "execution_count": null,
   "metadata": {},
   "outputs": [],
   "source": []
  },
  {
   "cell_type": "code",
   "execution_count": null,
   "metadata": {},
   "outputs": [],
   "source": []
  }
 ],
 "metadata": {
  "kernelspec": {
   "display_name": "Python 3",
   "language": "python",
   "name": "python3"
  },
  "language_info": {
   "codemirror_mode": {
    "name": "ipython",
    "version": 3
   },
   "file_extension": ".py",
   "mimetype": "text/x-python",
   "name": "python",
   "nbconvert_exporter": "python",
   "pygments_lexer": "ipython3",
   "version": "3.7.4"
  }
 },
 "nbformat": 4,
 "nbformat_minor": 2
}
